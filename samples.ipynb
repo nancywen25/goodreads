{
 "cells": [
  {
   "cell_type": "markdown",
   "metadata": {},
   "source": [
    "# Display Sample Records"
   ]
  },
  {
   "cell_type": "code",
   "execution_count": 1,
   "metadata": {},
   "outputs": [],
   "source": [
    "import gzip\n",
    "import json\n",
    "import re\n",
    "import os\n",
    "import sys\n",
    "import numpy as np\n",
    "import pandas as pd"
   ]
  },
  {
   "cell_type": "markdown",
   "metadata": {},
   "source": [
    "**Specify your directory here:**"
   ]
  },
  {
   "cell_type": "code",
   "execution_count": 2,
   "metadata": {},
   "outputs": [],
   "source": [
    "DIR = './data'"
   ]
  },
  {
   "cell_type": "markdown",
   "metadata": {},
   "source": [
    "**This function shows how to load datasets**"
   ]
  },
  {
   "cell_type": "code",
   "execution_count": 9,
   "metadata": {},
   "outputs": [],
   "source": [
    "def load_data(file_name, head = 500):\n",
    "    '''\n",
    "        Given a *.json.gz file, returns a list of dictionaries,\n",
    "        optionally can select the first n records\n",
    "    '''\n",
    "    count = 0\n",
    "    data = []\n",
    "    with gzip.open(file_name) as fin:\n",
    "        for l in fin:\n",
    "            d = json.loads(l)\n",
    "            count += 1\n",
    "            data.append(d)\n",
    "            \n",
    "            # break if reaches the 500th line\n",
    "            if (head is not None) and (count >= head):\n",
    "                break\n",
    "    return data"
   ]
  },
  {
   "cell_type": "markdown",
   "metadata": {},
   "source": [
    "**Load and display sample records of books/authors/works/series**"
   ]
  },
  {
   "cell_type": "code",
   "execution_count": 10,
   "metadata": {},
   "outputs": [],
   "source": [
    "poetry = load_data(os.path.join(DIR, 'goodreads_books_poetry.json.gz'))\n",
    "\n",
    "# books = load_data(os.path.join(DIR, 'goodreads_books.json.gz'))\n",
    "# authors = load_data(os.path.join(DIR, 'goodreads_book_authors.json.gz'))\n",
    "# works = load_data(os.path.join(DIR, 'goodreads_book_works.json.gz'))\n",
    "# series = load_data(os.path.join(DIR, 'goodreads_book_series.json.gz'))"
   ]
  },
  {
   "cell_type": "code",
   "execution_count": 11,
   "metadata": {},
   "outputs": [
    {
     "data": {
      "text/plain": [
       "500"
      ]
     },
     "execution_count": 11,
     "metadata": {},
     "output_type": "execute_result"
    }
   ],
   "source": [
    "len(poetry)"
   ]
  },
  {
   "cell_type": "code",
   "execution_count": 12,
   "metadata": {},
   "outputs": [
    {
     "data": {
      "text/plain": [
       "{'isbn': '',\n",
       " 'text_reviews_count': '1',\n",
       " 'series': [],\n",
       " 'country_code': 'US',\n",
       " 'language_code': 'eng',\n",
       " 'popular_shelves': [{'count': '8', 'name': 'to-read'},\n",
       "  {'count': '3', 'name': 'poetry'},\n",
       "  {'count': '2', 'name': 'currently-reading'},\n",
       "  {'count': '1', 'name': '01-kindle'},\n",
       "  {'count': '1', 'name': 'real-books'},\n",
       "  {'count': '1', 'name': 'personal-library'}],\n",
       " 'asin': '',\n",
       " 'is_ebook': 'false',\n",
       " 'average_rating': '3.83',\n",
       " 'kindle_asin': '',\n",
       " 'similar_books': [],\n",
       " 'description': 'Number 30 in a series of literary pamphlets published monthly and available at the price of 15 cents per copy, or a yearly subscription (19 numbers) for $1.25',\n",
       " 'format': 'Paperback',\n",
       " 'link': 'https://www.goodreads.com/book/show/16037549-vision-of-sir-launfal-and-other-poems',\n",
       " 'authors': [{'author_id': '15585', 'role': ''}],\n",
       " 'publisher': 'Houghton, Mifflin and Company',\n",
       " 'num_pages': '80',\n",
       " 'publication_day': '1',\n",
       " 'isbn13': '',\n",
       " 'publication_month': '11',\n",
       " 'edition_information': '',\n",
       " 'publication_year': '1887',\n",
       " 'url': 'https://www.goodreads.com/book/show/16037549-vision-of-sir-launfal-and-other-poems',\n",
       " 'image_url': 'https://images.gr-assets.com/books/1348176637m/16037549.jpg',\n",
       " 'book_id': '16037549',\n",
       " 'ratings_count': '3',\n",
       " 'work_id': '5212748',\n",
       " 'title': 'Vision of Sir Launfal and Other Poems',\n",
       " 'title_without_series': 'Vision of Sir Launfal and Other Poems'}"
      ]
     },
     "execution_count": 12,
     "metadata": {},
     "output_type": "execute_result"
    }
   ],
   "source": [
    "poetry[0]"
   ]
  },
  {
   "cell_type": "code",
   "execution_count": 16,
   "metadata": {},
   "outputs": [],
   "source": [
    "# print(' == sample record (books) ==')\n",
    "# display(np.random.choice(books))\n",
    "# print(' == sample record (authors) ==')\n",
    "# display(np.random.choice(authors))\n",
    "# print(' == sample record (works) ==')\n",
    "# display(np.random.choice(works))\n",
    "# print(' == sample record (series) ==')\n",
    "# display(np.random.choice(series))"
   ]
  },
  {
   "cell_type": "markdown",
   "metadata": {},
   "source": [
    "**Load and display sample records of user-book interactions (shelves)**"
   ]
  },
  {
   "cell_type": "code",
   "execution_count": 18,
   "metadata": {},
   "outputs": [
    {
     "data": {
      "text/plain": [
       "{'user_id': 'e65bfb998920844f263f5cbb499cf203',\n",
       " 'book_id': '820305',\n",
       " 'review_id': '73b58b3eaa020123efbe806398a3fdda',\n",
       " 'is_read': True,\n",
       " 'rating': 4,\n",
       " 'review_text_incomplete': '',\n",
       " 'date_added': 'Mon Aug 05 05:53:22 -0700 2013',\n",
       " 'date_updated': 'Mon Aug 05 05:53:22 -0700 2013',\n",
       " 'read_at': '',\n",
       " 'started_at': ''}"
      ]
     },
     "execution_count": 18,
     "metadata": {},
     "output_type": "execute_result"
    }
   ],
   "source": [
    "interactions = load_data(os.path.join(DIR, 'goodreads_interactions_poetry.json.gz'))\n",
    "np.random.choice(interactions)"
   ]
  },
  {
   "cell_type": "markdown",
   "metadata": {},
   "source": [
    "**Load and display sample records of book reviews**"
   ]
  },
  {
   "cell_type": "code",
   "execution_count": 19,
   "metadata": {},
   "outputs": [
    {
     "data": {
      "text/plain": [
       "{'user_id': '13a8074a4cf64337edcf084b30b9a72a',\n",
       " 'book_id': '770591',\n",
       " 'review_id': 'd0d1ee0faf4ce414749e63ebd400a949',\n",
       " 'rating': 4,\n",
       " 'review_text': \"People have compared my poetry to Mary Oliver's enough times that I felt I should learn more about her. After reading this book, I'm honored by the comparison. She writes very simple, clean poetry about the natural world, and I can only hope that one day I achieve some measure of the control that she exhibits here. \\n One oddity about this book: I'd expected the poems to be arranged in chronological order, and it took me some time to realize they were actually arranged in reverse chronological order, with the newest poems first. I suspect this was done for the benefit of her fans who wanted to get to the new stuff first, but it was somewhat confusing for me, as I was reading the book expecting to see the unfolding of her style over time. Once I figured out what was going on, I started reading the book from the back (the way I almost always read magazines), and it made a lot more sense to me.\",\n",
       " 'date_added': 'Tue Aug 25 14:34:43 -0700 2015',\n",
       " 'date_updated': 'Tue Feb 02 10:15:35 -0800 2016',\n",
       " 'read_at': 'Tue Feb 02 10:15:35 -0800 2016',\n",
       " 'started_at': 'Tue Aug 25 00:00:00 -0700 2015',\n",
       " 'n_votes': 1,\n",
       " 'n_comments': 0}"
      ]
     },
     "execution_count": 19,
     "metadata": {},
     "output_type": "execute_result"
    }
   ],
   "source": [
    "reviews = load_data(os.path.join(DIR, 'goodreads_reviews_poetry.json.gz'))\n",
    "np.random.choice(reviews)"
   ]
  },
  {
   "cell_type": "markdown",
   "metadata": {},
   "source": [
    "**Load and display sample records of book reviews (with spoiler tags)**"
   ]
  },
  {
   "cell_type": "code",
   "execution_count": 23,
   "metadata": {},
   "outputs": [
    {
     "data": {
      "text/plain": [
       "{'user_id': '8842281e1d1347389f2ab93d60773d4d',\n",
       " 'timestamp': '2014-07-26',\n",
       " 'review_sentences': [[0, 'What a fun series.'],\n",
       "  [0,\n",
       "   'I loved Wool, and Dust and Shift both gave us the backstory to explain the world and how it ended up.'],\n",
       "  [0,\n",
       "   'I think the first book was by far the best, but this gave us a nice conclusion.'],\n",
       "  [1,\n",
       "   'It was the conclusion we wanted to see - the people finally get outside!'],\n",
       "  [1, 'My problem with this book is there were lots of holes.'],\n",
       "  [1,\n",
       "   \"A lot of the other reviews have pointed this out too, and I'm not sure if the fact I know it was self-published is biasing me to say it could have used more editing, but feels that way a little.\"],\n",
       "  [1, 'But the writing was great.'],\n",
       "  [1,\n",
       "   \"There were lots of things that weren't cleared up or never really fully made sense.\"],\n",
       "  [1,\n",
       "   'The major one is why Thurman really felt the need to destroy the whole world - feels like there could have been a lot more to that.'],\n",
       "  [1,\n",
       "   \"It also wasn't clear how he really accomplished that - was it all nuclear or was it nano?\"],\n",
       "  [1, \"If nuclear, wouldn't the world really be a wasteland?\"],\n",
       "  [1, \"Whatever happened to silo 40 and other silo's that went dark?\"],\n",
       "  [1,\n",
       "   'I was kind of expecting that they had already broken outside and would have been waiting there.'],\n",
       "  [1,\n",
       "   'Or perhaps they already went to the sea and Hugh will tell us their story later.'],\n",
       "  [1, 'What happens to the other silos after silo one is destroyed?'],\n",
       "  [1,\n",
       "   \"Didn't it power their server rooms and probably provide other stuff including guidance to the silo heads?\"],\n",
       "  [1, 'Will they make the 200 years on their own?'],\n",
       "  [1,\n",
       "   \"The mystery of silo 17 and why the dead bodies at the top didn't rot was never really explained.\"],\n",
       "  [1,\n",
       "   \"I'm guessing they were kept whole by healing nano's, but it felt like there was more to that story.\"],\n",
       "  [1, \"I didn't understand why Anna didn't come back to life.\"],\n",
       "  [1, 'If Thurman could do so after being killed by Donald, why not her?'],\n",
       "  [1,\n",
       "   'All the love stories (Juliet and Kyle, Donald and Anna, etc ended up sadly - I wanted one happy one.'],\n",
       "  [0, 'If anything, I think this book is about hope and resiliency.'],\n",
       "  [0,\n",
       "   \"Jules and Donald and even Solo weren't perfect, and suffered through a lot, but the only thing that kept them going was hope of a better life, and determination to keep themselves alive.\"],\n",
       "  [0, 'That determination defined them and was what we admired about them.'],\n",
       "  [0, 'The hope was what gave them their drive.'],\n",
       "  [0, 'Hope is a powerful and necessary part of human psychology.']],\n",
       " 'rating': 4,\n",
       " 'has_spoiler': True,\n",
       " 'book_id': '17855756',\n",
       " 'review_id': '9db60af739f79f40c0016b924a5326b4'}"
      ]
     },
     "execution_count": 23,
     "metadata": {},
     "output_type": "execute_result"
    }
   ],
   "source": [
    "spoilers = load_data(os.path.join(DIR, 'goodreads_reviews_spoiler.json.gz'))\n",
    "np.random.choice([s for s in spoilers if s['has_spoiler']])"
   ]
  },
  {
   "cell_type": "code",
   "execution_count": 9,
   "metadata": {},
   "outputs": [
    {
     "data": {
      "text/plain": [
       "{'user_id': '8842281e1d1347389f2ab93d60773d4d',\n",
       " 'book_id': '28684704',\n",
       " 'review_id': '2ede853b14dc4583f96cf5d120af636f',\n",
       " 'rating': 3,\n",
       " 'review_text': 'A fun, fast paced science fiction thriller. I read it in 2 nights and couldn\\'t put it down. The book is about the quantum theory of many worlds which states that all decisions we make throughout our lives basically create branches, and that each possible path through the decision tree can be thought of as a parallel world. And in this book, someone invents a way to switch between these worlds. This was nicely alluded to/foreshadowed in this quote: \\n \"I think about all the choices we\\'ve made that created this moment. Us sitting here together at this beautiful table. Then I think of all the possible events that could have stopped this moment from ever happening, and it all feels, I don\\'t know...\" \"What?\" \"So fragile.\" Now he becomes thoughtful for a moment. He says finally, \"It\\'s terrifying when you consider that every thought we have, every choice we could possibly make, branches into a new world.\" \\n (view spoiler)[This book can\\'t be discussed without spoilers. It is a book about choice and regret. Ever regret not chasing the girl of your dreams so you can focus on your career? Well Jason2 made that choice and then did regret it. Clearly the author is trying to tell us to optimize for happiness - to be that second rate physics teacher at a community college if it means you can have a happy life. I\\'m being snarky because while there is certainly something to that, you also have to have meaning in your life that comes from within. I thought the book was a little shallow on this dimension. In fact, all the characters were fairly shallow. Daniela was the perfect wife. Ryan the perfect antithesis of Jason. Amanda the perfect loyal traveling companion, etc. This, plus the fact that the book was weak on the science are what led me to take a few stars off - but I\\'d still read it again if I could go back in time - was a very fun and engaging read. \\n If you want to really minimize regret, you have to live your life to avoid it in the first place. Regret can\\'t be hacked, which is kind of the point of the book. My favorite book about regret is Remains of the Day. I do really like the visualization of the decision tree though - that is a powerful concept. \\n \"Every moment, every breath, contains a choice. But life is imperfect. We make the wrong choices. So we end up living in a state of perpetual regret, and is there anything worse? I built something that could actually eradicate regret. Let you find worlds where you made the right choice.\" Daniela says, \"Life doesn\\'t work that way. You live with your choices and learn. You don\\'t cheat the system.\" \\n (hide spoiler)]',\n",
       " 'date_added': 'Tue Nov 15 11:29:22 -0800 2016',\n",
       " 'date_updated': 'Mon Mar 20 23:40:27 -0700 2017',\n",
       " 'read_at': 'Sat Mar 18 23:22:42 -0700 2017',\n",
       " 'started_at': 'Fri Mar 17 23:45:40 -0700 2017',\n",
       " 'n_votes': 22,\n",
       " 'n_comments': 0}"
      ]
     },
     "execution_count": 9,
     "metadata": {},
     "output_type": "execute_result"
    }
   ],
   "source": [
    "# spoilers = load_data(os.path.join(DIR, 'goodreads_reviews_spoiler_raw.json.gz'))\n",
    "# np.random.choice([s for s in spoilers if 'view spoiler' in s['review_text']])"
   ]
  },
  {
   "cell_type": "code",
   "execution_count": null,
   "metadata": {},
   "outputs": [],
   "source": []
  }
 ],
 "metadata": {
  "kernelspec": {
   "display_name": "Python 3",
   "language": "python",
   "name": "python3"
  },
  "language_info": {
   "codemirror_mode": {
    "name": "ipython",
    "version": 3
   },
   "file_extension": ".py",
   "mimetype": "text/x-python",
   "name": "python",
   "nbconvert_exporter": "python",
   "pygments_lexer": "ipython3",
   "version": "3.8.6"
  }
 },
 "nbformat": 4,
 "nbformat_minor": 4
}
